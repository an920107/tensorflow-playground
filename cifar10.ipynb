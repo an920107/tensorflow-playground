{
 "cells": [
  {
   "cell_type": "markdown",
   "metadata": {},
   "source": [
    "## Importing"
   ]
  },
  {
   "cell_type": "code",
   "execution_count": 1,
   "metadata": {},
   "outputs": [
    {
     "name": "stderr",
     "output_type": "stream",
     "text": [
      "2023-08-25 13:44:51.309244: I tensorflow/core/util/port.cc:110] oneDNN custom operations are on. You may see slightly different numerical results due to floating-point round-off errors from different computation orders. To turn them off, set the environment variable `TF_ENABLE_ONEDNN_OPTS=0`.\n",
      "2023-08-25 13:44:51.346428: I tensorflow/core/platform/cpu_feature_guard.cc:182] This TensorFlow binary is optimized to use available CPU instructions in performance-critical operations.\n",
      "To enable the following instructions: AVX2 AVX512F AVX512_VNNI FMA, in other operations, rebuild TensorFlow with the appropriate compiler flags.\n",
      "2023-08-25 13:44:52.001358: W tensorflow/compiler/tf2tensorrt/utils/py_utils.cc:38] TF-TRT Warning: Could not find TensorRT\n"
     ]
    }
   ],
   "source": [
    "import tensorflow as tf\n",
    "from tensorflow import keras\n",
    "\n",
    "from keras import layers, losses, optimizers\n",
    "from keras.datasets import cifar10\n",
    "\n",
    "from numpy import ndarray"
   ]
  },
  {
   "cell_type": "markdown",
   "metadata": {},
   "source": [
    "## Loading Data"
   ]
  },
  {
   "cell_type": "markdown",
   "metadata": {},
   "source": [
    "- 0 airplane\n",
    "- 1 automobile\n",
    "- 2 bird\n",
    "- 3 cat\n",
    "- 4 deer\n",
    "- 5 dog\n",
    "- 6 frog\n",
    "- 7 horse\n",
    "- 8 ship\n",
    "- 9 truck"
   ]
  },
  {
   "cell_type": "code",
   "execution_count": 2,
   "metadata": {},
   "outputs": [],
   "source": [
    "input_train: ndarray\n",
    "output_train: ndarray\n",
    "input_test: ndarray\n",
    "output_test: ndarray\n",
    "\n",
    "(input_train, output_train), (input_test, output_test) = cifar10.load_data()\n",
    "\n",
    "input_train = input_train.astype(\"float32\") / 255.0\n",
    "input_test = input_test.astype(\"float32\") / 255.0"
   ]
  },
  {
   "cell_type": "markdown",
   "metadata": {},
   "source": [
    "## Modeling"
   ]
  },
  {
   "cell_type": "code",
   "execution_count": 5,
   "metadata": {},
   "outputs": [
    {
     "name": "stdout",
     "output_type": "stream",
     "text": [
      "Model: \"sequential_1\"\n",
      "_________________________________________________________________\n",
      " Layer (type)                Output Shape              Param #   \n",
      "=================================================================\n",
      " conv2d_3 (Conv2D)           (None, 29, 29, 64)        3136      \n",
      "                                                                 \n",
      " conv2d_4 (Conv2D)           (None, 26, 26, 64)        65600     \n",
      "                                                                 \n",
      " conv2d_5 (Conv2D)           (None, 23, 23, 64)        65600     \n",
      "                                                                 \n",
      " flatten_1 (Flatten)         (None, 33856)             0         \n",
      "                                                                 \n",
      " dense_2 (Dense)             (None, 128)               4333696   \n",
      "                                                                 \n",
      " dense_3 (Dense)             (None, 10)                1290      \n",
      "                                                                 \n",
      "=================================================================\n",
      "Total params: 4469322 (17.05 MB)\n",
      "Trainable params: 4469322 (17.05 MB)\n",
      "Non-trainable params: 0 (0.00 Byte)\n",
      "_________________________________________________________________\n",
      "None\n"
     ]
    }
   ],
   "source": [
    "model = keras.Sequential(\n",
    "    layers=[\n",
    "        keras.Input(shape=(32, 32, 3)),\n",
    "        layers.Conv2D(64, 4, activation=\"relu\"),\n",
    "        layers.Conv2D(64, 4, activation=\"relu\"),\n",
    "        layers.Conv2D(64, 4, activation=\"relu\"),\n",
    "        layers.Flatten(),\n",
    "        layers.Dense(128, activation=\"relu\"),\n",
    "        layers.Dense(10),\n",
    "    ]\n",
    ")\n",
    "\n",
    "print(model.summary())\n",
    "\n",
    "model.compile(\n",
    "    loss=losses.SparseCategoricalCrossentropy(from_logits=True),\n",
    "    optimizer=optimizers.Adam(learning_rate=0.001),\n",
    "    metrics=[\"accuracy\"],\n",
    ")"
   ]
  },
  {
   "cell_type": "markdown",
   "metadata": {},
   "source": [
    "## Training"
   ]
  },
  {
   "cell_type": "code",
   "execution_count": 6,
   "metadata": {},
   "outputs": [
    {
     "name": "stdout",
     "output_type": "stream",
     "text": [
      "Epoch 1/10\n",
      "3125/3125 [==============================] - 79s 25ms/step - loss: 1.5028 - accuracy: 0.4580\n",
      "Epoch 2/10\n",
      "3125/3125 [==============================] - 77s 25ms/step - loss: 1.1360 - accuracy: 0.5974\n",
      "Epoch 3/10\n",
      "3125/3125 [==============================] - 77s 25ms/step - loss: 0.9137 - accuracy: 0.6783\n",
      "Epoch 4/10\n",
      "3125/3125 [==============================] - 77s 25ms/step - loss: 0.7148 - accuracy: 0.7474\n",
      "Epoch 5/10\n",
      "3125/3125 [==============================] - 78s 25ms/step - loss: 0.5098 - accuracy: 0.8214\n",
      "Epoch 6/10\n",
      "3125/3125 [==============================] - 78s 25ms/step - loss: 0.3390 - accuracy: 0.8812\n",
      "Epoch 7/10\n",
      "3125/3125 [==============================] - 78s 25ms/step - loss: 0.2303 - accuracy: 0.9205\n",
      "Epoch 8/10\n",
      "3125/3125 [==============================] - 77s 25ms/step - loss: 0.1772 - accuracy: 0.9411\n",
      "Epoch 9/10\n",
      "3125/3125 [==============================] - 77s 25ms/step - loss: 0.1453 - accuracy: 0.9539\n",
      "Epoch 10/10\n",
      "3125/3125 [==============================] - 77s 24ms/step - loss: 0.1305 - accuracy: 0.9577\n"
     ]
    },
    {
     "data": {
      "text/plain": [
       "<keras.src.callbacks.History at 0x7f1f34738460>"
      ]
     },
     "execution_count": 6,
     "metadata": {},
     "output_type": "execute_result"
    }
   ],
   "source": [
    "model.fit(input_train, output_train, batch_size=16, epochs=10)"
   ]
  },
  {
   "cell_type": "markdown",
   "metadata": {},
   "source": [
    "## Evaluating"
   ]
  },
  {
   "cell_type": "code",
   "execution_count": 7,
   "metadata": {},
   "outputs": [],
   "source": [
    "model.evaluate(input_test, output_test, batch_size=16)"
   ]
  }
 ],
 "metadata": {
  "kernelspec": {
   "display_name": ".venv",
   "language": "python",
   "name": "python3"
  },
  "language_info": {
   "codemirror_mode": {
    "name": "ipython",
    "version": 3
   },
   "file_extension": ".py",
   "mimetype": "text/x-python",
   "name": "python",
   "nbconvert_exporter": "python",
   "pygments_lexer": "ipython3",
   "version": "3.8.17"
  },
  "orig_nbformat": 4
 },
 "nbformat": 4,
 "nbformat_minor": 2
}
