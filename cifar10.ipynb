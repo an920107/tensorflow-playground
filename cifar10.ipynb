{
 "cells": [
  {
   "cell_type": "markdown",
   "metadata": {},
   "source": [
    "## Importing"
   ]
  },
  {
   "cell_type": "code",
   "execution_count": 30,
   "metadata": {},
   "outputs": [],
   "source": [
    "import tensorflow as tf\n",
    "from tensorflow import keras\n",
    "\n",
    "from tensorflow.keras import layers, losses, optimizers\n",
    "from tensorflow.keras.datasets import cifar10\n",
    "\n",
    "from numpy import ndarray"
   ]
  },
  {
   "cell_type": "markdown",
   "metadata": {},
   "source": [
    "## Loading Data"
   ]
  },
  {
   "cell_type": "markdown",
   "metadata": {},
   "source": [
    "- 0 airplane\n",
    "- 1 automobile\n",
    "- 2 bird\n",
    "- 3 cat\n",
    "- 4 deer\n",
    "- 5 dog\n",
    "- 6 frog\n",
    "- 7 horse\n",
    "- 8 ship\n",
    "- 9 truck"
   ]
  },
  {
   "cell_type": "code",
   "execution_count": 31,
   "metadata": {},
   "outputs": [],
   "source": [
    "input_train: ndarray\n",
    "output_train: ndarray\n",
    "input_test: ndarray\n",
    "output_test: ndarray\n",
    "\n",
    "(input_train, output_train), (input_test, output_test) = cifar10.load_data()\n",
    "\n",
    "input_train = input_train.astype(\"float32\") / 255.0\n",
    "input_test = input_test.astype(\"float32\") / 255.0"
   ]
  },
  {
   "cell_type": "markdown",
   "metadata": {},
   "source": [
    "## Modeling"
   ]
  },
  {
   "cell_type": "code",
   "execution_count": 85,
   "metadata": {},
   "outputs": [
    {
     "name": "stdout",
     "output_type": "stream",
     "text": [
      "Model: \"sequential_25\"\n",
      "_________________________________________________________________\n",
      "Layer (type)                 Output Shape              Param #   \n",
      "=================================================================\n",
      "conv2d_93 (Conv2D)           (None, 32, 32, 32)        896       \n",
      "_________________________________________________________________\n",
      "conv2d_94 (Conv2D)           (None, 32, 32, 32)        9248      \n",
      "_________________________________________________________________\n",
      "dropout_42 (Dropout)         (None, 32, 32, 32)        0         \n",
      "_________________________________________________________________\n",
      "conv2d_95 (Conv2D)           (None, 32, 32, 64)        18496     \n",
      "_________________________________________________________________\n",
      "conv2d_96 (Conv2D)           (None, 32, 32, 64)        36928     \n",
      "_________________________________________________________________\n",
      "dropout_43 (Dropout)         (None, 32, 32, 64)        0         \n",
      "_________________________________________________________________\n",
      "conv2d_97 (Conv2D)           (None, 32, 32, 128)       73856     \n",
      "_________________________________________________________________\n",
      "conv2d_98 (Conv2D)           (None, 32, 32, 128)       147584    \n",
      "_________________________________________________________________\n",
      "dropout_44 (Dropout)         (None, 32, 32, 128)       0         \n",
      "_________________________________________________________________\n",
      "flatten_25 (Flatten)         (None, 131072)            0         \n",
      "_________________________________________________________________\n",
      "dense_37 (Dense)             (None, 10)                1310730   \n",
      "=================================================================\n",
      "Total params: 1,597,738\n",
      "Trainable params: 1,597,738\n",
      "Non-trainable params: 0\n",
      "_________________________________________________________________\n",
      "None\n"
     ]
    }
   ],
   "source": [
    "model = keras.Sequential(\n",
    "    layers=[\n",
    "        layers.InputLayer(input_shape=(32, 32, 3)),\n",
    "        layers.Conv2D(32, 3, activation=\"relu\", padding=\"same\"),\n",
    "        layers.Conv2D(32, 3, activation=\"relu\", padding=\"same\"),\n",
    "        layers.Dropout(0.5),\n",
    "        layers.Conv2D(64, 3, activation=\"relu\", padding=\"same\"),\n",
    "        layers.Conv2D(64, 3, activation=\"relu\", padding=\"same\"),\n",
    "        layers.Dropout(0.3),\n",
    "        layers.Conv2D(128, 3, activation=\"relu\", padding=\"same\"),\n",
    "        layers.Conv2D(128, 3, activation=\"relu\", padding=\"same\"),\n",
    "        layers.Dropout(0.5),\n",
    "        layers.Flatten(),\n",
    "        layers.Dense(10),\n",
    "    ]\n",
    ")\n",
    "\n",
    "print(model.summary())\n",
    "\n",
    "model.compile(\n",
    "    loss=losses.SparseCategoricalCrossentropy(from_logits=True),\n",
    "    optimizer=optimizers.Adam(learning_rate=0.0002),\n",
    "    metrics=[\"accuracy\"],\n",
    ")"
   ]
  },
  {
   "cell_type": "markdown",
   "metadata": {},
   "source": [
    "## Training"
   ]
  },
  {
   "cell_type": "code",
   "execution_count": 86,
   "metadata": {},
   "outputs": [
    {
     "name": "stdout",
     "output_type": "stream",
     "text": [
      "Epoch 1/10\n",
      "782/782 [==============================] - 13s 16ms/step - loss: 1.6064 - accuracy: 0.4221\n",
      "Epoch 2/10\n",
      "782/782 [==============================] - 13s 16ms/step - loss: 1.2333 - accuracy: 0.5624\n",
      "Epoch 3/10\n",
      "782/782 [==============================] - 13s 16ms/step - loss: 1.0765 - accuracy: 0.6195\n",
      "Epoch 4/10\n",
      "782/782 [==============================] - 13s 16ms/step - loss: 0.9600 - accuracy: 0.6677\n",
      "Epoch 5/10\n",
      "782/782 [==============================] - 13s 16ms/step - loss: 0.8646 - accuracy: 0.7003\n",
      "Epoch 6/10\n",
      "782/782 [==============================] - 13s 16ms/step - loss: 0.7849 - accuracy: 0.7275\n",
      "Epoch 7/10\n",
      "782/782 [==============================] - 13s 16ms/step - loss: 0.7096 - accuracy: 0.7525\n",
      "Epoch 8/10\n",
      "782/782 [==============================] - 13s 16ms/step - loss: 0.6390 - accuracy: 0.7784\n",
      "Epoch 9/10\n",
      "782/782 [==============================] - 13s 16ms/step - loss: 0.5826 - accuracy: 0.7955\n",
      "Epoch 10/10\n",
      "782/782 [==============================] - 13s 16ms/step - loss: 0.5227 - accuracy: 0.8171\n"
     ]
    },
    {
     "data": {
      "text/plain": [
       "<tensorflow.python.keras.callbacks.History at 0x1625d427ac0>"
      ]
     },
     "execution_count": 86,
     "metadata": {},
     "output_type": "execute_result"
    }
   ],
   "source": [
    "model.fit(input_train, output_train, batch_size=64, epochs=10)"
   ]
  },
  {
   "cell_type": "markdown",
   "metadata": {},
   "source": [
    "## Evaluating"
   ]
  },
  {
   "cell_type": "code",
   "execution_count": 87,
   "metadata": {},
   "outputs": [
    {
     "name": "stdout",
     "output_type": "stream",
     "text": [
      "157/157 [==============================] - 1s 6ms/step - loss: 0.8408 - accuracy: 0.7266\n"
     ]
    },
    {
     "data": {
      "text/plain": [
       "[0.8407881855964661, 0.7265999913215637]"
      ]
     },
     "execution_count": 87,
     "metadata": {},
     "output_type": "execute_result"
    }
   ],
   "source": [
    "model.evaluate(input_test, output_test, batch_size=64)"
   ]
  }
 ],
 "metadata": {
  "kernelspec": {
   "display_name": ".venv",
   "language": "python",
   "name": "python3"
  },
  "language_info": {
   "codemirror_mode": {
    "name": "ipython",
    "version": 3
   },
   "file_extension": ".py",
   "mimetype": "text/x-python",
   "name": "python",
   "nbconvert_exporter": "python",
   "pygments_lexer": "ipython3",
   "version": "3.9.13"
  },
  "orig_nbformat": 4
 },
 "nbformat": 4,
 "nbformat_minor": 2
}
