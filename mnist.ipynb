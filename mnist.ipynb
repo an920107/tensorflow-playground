{
 "cells": [
  {
   "cell_type": "markdown",
   "metadata": {},
   "source": [
    "## Importing"
   ]
  },
  {
   "cell_type": "code",
   "execution_count": 19,
   "metadata": {},
   "outputs": [],
   "source": [
    "import tensorflow as tf\n",
    "from tensorflow import keras\n",
    "\n",
    "from tensorflow.keras import layers, losses, optimizers\n",
    "from tensorflow.keras.datasets import mnist\n",
    "\n",
    "from numpy import ndarray"
   ]
  },
  {
   "cell_type": "markdown",
   "metadata": {},
   "source": [
    "## Loading Data"
   ]
  },
  {
   "cell_type": "code",
   "execution_count": 20,
   "metadata": {},
   "outputs": [],
   "source": [
    "input_train: ndarray\n",
    "output_train: ndarray\n",
    "input_test: ndarray\n",
    "output_test: ndarray\n",
    "\n",
    "(input_train, output_train), (input_test, output_test) = mnist.load_data()\n",
    "# input_train = input_train.reshape(-1, 28 * 28).astype(\"float32\") / 255.0\n",
    "# input_test = input_test.reshape(-1, 28 * 28).astype(\"float32\") / 255.0\n",
    "\n",
    "input_train = input_train.astype(\"float32\") / 255.0\n",
    "input_test = input_test.astype(\"float32\") / 255.0\n"
   ]
  },
  {
   "cell_type": "markdown",
   "metadata": {},
   "source": [
    "## Modeling"
   ]
  },
  {
   "cell_type": "code",
   "execution_count": 21,
   "metadata": {},
   "outputs": [
    {
     "name": "stdout",
     "output_type": "stream",
     "text": [
      "Model: \"sequential_8\"\n",
      "_________________________________________________________________\n",
      "Layer (type)                 Output Shape              Param #   \n",
      "=================================================================\n",
      "conv1d_12 (Conv1D)           (None, 24, 32)            4512      \n",
      "_________________________________________________________________\n",
      "conv1d_13 (Conv1D)           (None, 22, 64)            6208      \n",
      "_________________________________________________________________\n",
      "conv1d_14 (Conv1D)           (None, 20, 128)           24704     \n",
      "_________________________________________________________________\n",
      "flatten_4 (Flatten)          (None, 2560)              0         \n",
      "_________________________________________________________________\n",
      "dense_8 (Dense)              (None, 256)               655616    \n",
      "_________________________________________________________________\n",
      "dense_9 (Dense)              (None, 10)                2570      \n",
      "=================================================================\n",
      "Total params: 693,610\n",
      "Trainable params: 693,610\n",
      "Non-trainable params: 0\n",
      "_________________________________________________________________\n",
      "None\n"
     ]
    }
   ],
   "source": [
    "# model = keras.Sequential(\n",
    "#     layers=[\n",
    "#         keras.Input(shape=(28*28)),\n",
    "#         layers.Dense(1024, activation=\"relu\"),\n",
    "#         layers.Dense(512, activation=\"relu\"),\n",
    "#         layers.Dense(256, activation=\"relu\"),\n",
    "#         layers.Dense(10),\n",
    "#     ]\n",
    "# )\n",
    "\n",
    "model = keras.Sequential(\n",
    "    layers=[\n",
    "        layers.InputLayer(input_shape=(28, 28)),\n",
    "        layers.Conv1D(32, 5, activation=\"relu\"),\n",
    "        layers.Conv1D(64, 3, activation=\"relu\"),\n",
    "        layers.Conv1D(128, 3, activation=\"relu\"),\n",
    "        layers.Flatten(),\n",
    "        layers.Dense(256, activation=\"relu\"),\n",
    "        layers.Dense(10),\n",
    "    ]\n",
    ")\n",
    "\n",
    "model.compile(\n",
    "    loss=losses.SparseCategoricalCrossentropy(from_logits=True),\n",
    "    optimizer=optimizers.Adam(learning_rate=0.0001),\n",
    "    metrics=[\"accuracy\"],\n",
    ")\n",
    "\n",
    "print(model.summary())"
   ]
  },
  {
   "cell_type": "markdown",
   "metadata": {},
   "source": [
    "## Training"
   ]
  },
  {
   "cell_type": "code",
   "execution_count": 22,
   "metadata": {},
   "outputs": [
    {
     "name": "stdout",
     "output_type": "stream",
     "text": [
      "Epoch 1/10\n",
      "3750/3750 [==============================] - 11s 3ms/step - loss: 0.2734 - accuracy: 0.9212\n",
      "Epoch 2/10\n",
      "3750/3750 [==============================] - 10s 3ms/step - loss: 0.0913 - accuracy: 0.9725\n",
      "Epoch 3/10\n",
      "3750/3750 [==============================] - 10s 3ms/step - loss: 0.0631 - accuracy: 0.9811\n",
      "Epoch 4/10\n",
      "3750/3750 [==============================] - 11s 3ms/step - loss: 0.0478 - accuracy: 0.9851\n",
      "Epoch 5/10\n",
      "3750/3750 [==============================] - 12s 3ms/step - loss: 0.0387 - accuracy: 0.9882\n",
      "Epoch 6/10\n",
      "3750/3750 [==============================] - 12s 3ms/step - loss: 0.0307 - accuracy: 0.9906\n",
      "Epoch 7/10\n",
      "3750/3750 [==============================] - 12s 3ms/step - loss: 0.0251 - accuracy: 0.9919\n",
      "Epoch 8/10\n",
      "3750/3750 [==============================] - 11s 3ms/step - loss: 0.0209 - accuracy: 0.9933\n",
      "Epoch 9/10\n",
      "3750/3750 [==============================] - 11s 3ms/step - loss: 0.0171 - accuracy: 0.9949\n",
      "Epoch 10/10\n",
      "3750/3750 [==============================] - 11s 3ms/step - loss: 0.0138 - accuracy: 0.9959\n"
     ]
    },
    {
     "data": {
      "text/plain": [
       "<tensorflow.python.keras.callbacks.History at 0x21069e32d90>"
      ]
     },
     "execution_count": 22,
     "metadata": {},
     "output_type": "execute_result"
    }
   ],
   "source": [
    "model.fit(input_train, output_train, batch_size=16, epochs=10)"
   ]
  },
  {
   "cell_type": "markdown",
   "metadata": {},
   "source": [
    "## Evaluating"
   ]
  },
  {
   "cell_type": "code",
   "execution_count": 23,
   "metadata": {},
   "outputs": [
    {
     "name": "stdout",
     "output_type": "stream",
     "text": [
      "625/625 [==============================] - 1s 2ms/step - loss: 0.0375 - accuracy: 0.9881\n"
     ]
    },
    {
     "data": {
      "text/plain": [
       "[0.037504661828279495, 0.988099992275238]"
      ]
     },
     "execution_count": 23,
     "metadata": {},
     "output_type": "execute_result"
    }
   ],
   "source": [
    "model.evaluate(input_test, output_test, batch_size=16)"
   ]
  }
 ],
 "metadata": {
  "kernelspec": {
   "display_name": ".venv",
   "language": "python",
   "name": "python3"
  },
  "language_info": {
   "codemirror_mode": {
    "name": "ipython",
    "version": 3
   },
   "file_extension": ".py",
   "mimetype": "text/x-python",
   "name": "python",
   "nbconvert_exporter": "python",
   "pygments_lexer": "ipython3",
   "version": "3.9.13"
  },
  "orig_nbformat": 4
 },
 "nbformat": 4,
 "nbformat_minor": 2
}
